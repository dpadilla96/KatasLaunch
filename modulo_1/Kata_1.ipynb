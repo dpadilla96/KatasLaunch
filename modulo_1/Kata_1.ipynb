{
 "cells": [
  {
   "cell_type": "markdown",
   "metadata": {},
   "source": [
    "#Si Señor\n",
    "El oficial, nos solicito unos programas"
   ]
  },
  {
   "cell_type": "markdown",
   "metadata": {},
   "source": [
    "##Fecha de hoy\n",
    "Este programa muestra la fecha del día corriente"
   ]
  },
  {
   "cell_type": "code",
   "execution_count": 9,
   "metadata": {},
   "outputs": [
    {
     "name": "stdout",
     "output_type": "stream",
     "text": [
      "La fecha del día de hoy es:  2022-02-16 00:51:44.284406\n"
     ]
    }
   ],
   "source": [
    "#Es necesario importar las depencendias necesarias\n",
    "from datetime import date\n",
    "\n",
    "\n",
    "#Fecha actual\n",
    "now = datetime.now()\n",
    "\n",
    "#Una vez que declaramos todo lo anterior, vamos a llamar a la variable para que el código nos arroje la fecha\n",
    "print(\"La fecha del día de hoy es: \", now)"
   ]
  },
  {
   "cell_type": "markdown",
   "metadata": {},
   "source": [
    "#Conversor de Unidades\n",
    "## Nuestro oficial ahora necesita un conversor de unidades para realizar calculos y determinar el tiempo de llegada"
   ]
  },
  {
   "cell_type": "code",
   "execution_count": 11,
   "metadata": {},
   "outputs": [
    {
     "name": "stdout",
     "output_type": "stream",
     "text": [
      "11 parsec son 35.877159999999996 años luz en total\n"
     ]
    }
   ],
   "source": [
    "3#Lo primero que tenemos que hacer es declarar y darle un nombre a la variable, la cual quedaria así\n",
    "parsec = 11\n",
    "#Como queremos saber la cantidad de años luz, necesitamos realizar un código que tome la equivalencia de un parsec la cual es 3.26156\n",
    "#ahora debemos de proceder a hacer la conversión la cual quedaría de la siguiente manera\n",
    "aluz=3.26156*parsec\n",
    "\n",
    "#Por ultimo, imprimimos los resultados obtenidos \n",
    "\n",
    "print(str(parsec)+ \" parsec son \"+ str(aluz) + \" saños luz en total\")"
   ]
  }
 ],
 "metadata": {
  "interpreter": {
   "hash": "916dbcbb3f70747c44a77c7bcd40155683ae19c65e1c03b4aa3499c5328201f1"
  },
  "kernelspec": {
   "display_name": "Python 3.9.7 64-bit",
   "language": "python",
   "name": "python3"
  },
  "language_info": {
   "codemirror_mode": {
    "name": "ipython",
    "version": 3
   },
   "file_extension": ".py",
   "mimetype": "text/x-python",
   "name": "python",
   "nbconvert_exporter": "python",
   "pygments_lexer": "ipython3",
   "version": "3.9.7"
  },
  "orig_nbformat": 4
 },
 "nbformat": 4,
 "nbformat_minor": 2
}
