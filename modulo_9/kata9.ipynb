{
 "cells": [
  {
   "cell_type": "markdown",
   "metadata": {},
   "source": [
    "#Ejercicio. Uso de funciones en Python"
   ]
  },
  {
   "cell_type": "markdown",
   "metadata": {},
   "source": [
    "#Ejercicio 1. Trabajarcon argumentos en funciones \n"
   ]
  },
  {
   "cell_type": "code",
   "execution_count": 3,
   "metadata": {},
   "outputs": [
    {
     "name": "stdout",
     "output_type": "stream",
     "text": [
      "Reporte de combustible: 78.33333333333333%\n",
      "    Tanque principal: 80%\n",
      "    Tanque externo: 70%\n",
      "    Tanque de hidrogeno 85%\n",
      "    \n",
      "Reporte de combustible: \n",
      "    Promedio: 78.0% \n",
      "    Tanque principal: 88%\n",
      "    Tanque externo:76% \n",
      "    Tanque de hidrogeno: 70% \n",
      "    \n"
     ]
    }
   ],
   "source": [
    "#Funcion para leer 3 tanques de combustible y muestre el prromedio\n",
    "def generate_reporte(principal, externo, hidrogeno):\n",
    "    total_averge=(principal+externo+hidrogeno)/3\n",
    "    return f\"\"\"Reporte de combustible: {total_averge}%\n",
    "    Tanque principal: {principal}%\n",
    "    Tanque externo: {externo}%\n",
    "    Tanque de hidrogeno {hidrogeno}%\n",
    "    \"\"\"\n",
    "\n",
    "#Llamamos a la funcion que genera elreporte \n",
    "print(generate_reporte(80,70,85))\n",
    "\n",
    "#Función promedio\n",
    "def average(values):\n",
    "    total=sum(values)\n",
    "    numero_de_items=len(values)\n",
    "    return total/numero_de_items\n",
    "\n",
    "#Probamos la función promedio \n",
    "average([80,85,81])\n",
    "\n",
    "#Actualizamos la función\n",
    "def generate_reporte(principal, externo, hidrogeno):\n",
    "    return f\"\"\"Reporte de combustible: \n",
    "    Promedio: {average([principal, externo, hidrogeno])}% \n",
    "    Tanque principal: {principal}%\n",
    "    Tanque externo:{externo}% \n",
    "    Tanque de hidrogeno: {hidrogeno}% \n",
    "    \"\"\"\n",
    "\n",
    "#Actualizamos la funcion con los nuevos valores\n",
    "print(generate_reporte(88,76,70))\n"
   ]
  },
  {
   "cell_type": "markdown",
   "metadata": {},
   "source": [
    "#Ejercicio 2. Trabajo con argumentos de palabra clave\n"
   ]
  },
  {
   "cell_type": "code",
   "execution_count": 5,
   "metadata": {},
   "outputs": [
    {
     "ename": "SyntaxError",
     "evalue": "invalid syntax (4605508.py, line 21)",
     "output_type": "error",
     "traceback": [
      "\u001b[0;36m  Input \u001b[0;32mIn [5]\u001b[0;36m\u001b[0m\n\u001b[0;31m    def reporte_principal =f\"\"\"\u001b[0m\n\u001b[0m                          ^\u001b[0m\n\u001b[0;31mSyntaxError\u001b[0m\u001b[0;31m:\u001b[0m invalid syntax\n"
     ]
    }
   ],
   "source": [
    "#Función con un informe preciso de la misión.\n",
    "#Considera la hora prelanzamiento, tiempo de vuelo, tanque externo, tanque interno\n",
    "\n",
    "def reporte_mision(prelanzamiento, tvuelo, destino, externo, pricipal):\n",
    "    return f\"\"\"\n",
    "    Mision a {destino}\n",
    "    Total tiempo de viaje: {prelanzamiento+tvuelo} minutos\n",
    "    Total de combustible restante: {externo+principal} galones\n",
    "    \"\"\"\n",
    "\n",
    "    print (reporte_mision (14, 15, \"Luna\", 200000, 300000))\n",
    "\n",
    "def reporte_mision(destino, *minutos, **reservas):\n",
    "    reporte_principal=f\"\"\"\n",
    "    Mision a {destino}\n",
    "    Total tiempo de viaje: {sum(minutos)} ,minutos\n",
    "    Total de combustible restante {sum(reservas.values())}\n",
    "    \"\"\"\n",
    "\n",
    "#EScribe tu nueva misión\n",
    "def reporte_principal =f\"\"\"\n",
    "Mision a {destino}\n",
    "Total tiempo de viaje: {sum(minutos)} minutos\n",
    "Total de combustible restante: {sum(reservas.values())}\n",
    "\"\"\"\n",
    "\n",
    "for nombre_tanque, galones in reservas.items():\n",
    "    reporte_mision+=f\"{nombre_tanque} tanque --> {galones} galones restantes\\n\"\n",
    "return reporte_mision\n",
    "\n",
    "print(reporte_mision (\"Luna\", 8,11,55, principal=300000, externo=200000))\n"
   ]
  }
 ],
 "metadata": {
  "interpreter": {
   "hash": "916dbcbb3f70747c44a77c7bcd40155683ae19c65e1c03b4aa3499c5328201f1"
  },
  "kernelspec": {
   "display_name": "Python 3.9.7 64-bit",
   "language": "python",
   "name": "python3"
  },
  "language_info": {
   "codemirror_mode": {
    "name": "ipython",
    "version": 3
   },
   "file_extension": ".py",
   "mimetype": "text/x-python",
   "name": "python",
   "nbconvert_exporter": "python",
   "pygments_lexer": "ipython3",
   "version": "3.9.7"
  },
  "orig_nbformat": 4
 },
 "nbformat": 4,
 "nbformat_minor": 2
}
