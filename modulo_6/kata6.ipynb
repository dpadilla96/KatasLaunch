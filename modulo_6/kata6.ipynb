{
 "cells": [
  {
   "cell_type": "markdown",
   "metadata": {},
   "source": [
    "#Ejercicio 1. Crear y usar listas de Python"
   ]
  },
  {
   "cell_type": "code",
   "execution_count": 4,
   "metadata": {},
   "outputs": [
    {
     "name": "stdout",
     "output_type": "stream",
     "text": [
      "Pluton\n"
     ]
    }
   ],
   "source": [
    "#Creamos la lista de planetas y la mostramos\n",
    "\n",
    "planetas=[\"Mercurio\", \"Venus\", \"Tierra\", \"Marte\", \"Jupiter\", \"Saturno\", \"Urano\", \"Neptuno\"]\n",
    "\n",
    "#Agregamos a Plutón y mostramos el último elemento\n",
    "\n",
    "planetas.append(\"Pluton\")\n",
    "print(planetas[-1])"
   ]
  },
  {
   "cell_type": "markdown",
   "metadata": {},
   "source": [
    "#Ejercicio 2. Trabajando con datos en una lista"
   ]
  },
  {
   "cell_type": "code",
   "execution_count": 5,
   "metadata": {},
   "outputs": [
    {
     "name": "stdout",
     "output_type": "stream",
     "text": [
      "Tu tienes el nombre del planeta Tierra dentro del Sistema Solar\n",
      "El planeta Tierra es el numero 3 en el Sistema Solar\n",
      "El planeta Tierra es uno de los planetas más cercanos al Sol\n"
     ]
    }
   ],
   "source": [
    "#Lista de planetas\n",
    "planetas=[\"Mercurio\", \"Venus\", \"Tierra\", \"Marte\", \"Jupiter\", \"Saturno\", \"Urano\", \"Neptuno\"]\n",
    "\n",
    "#Solicitamos el nombre de un planeta\n",
    "planetas_input = input (\"Por favor escribe el nombre de un planeta aquí: \")\n",
    "\n",
    "#Buscamos el planeta en la lista\n",
    "planetasSearch=planetas.index(planetas_input)\n",
    "\n",
    "print(f\"Tu tienes el nombre del planeta {planetas[planetasSearch]} dentro del Sistema Solar\")\n",
    "print(f\"El planeta {planetas[planetasSearch]} es el numero {planetasSearch+1} en el Sistema Solar\")\n",
    "\n",
    "#Muestra los planetas más cercanos al Sol\n",
    "if planetasSearch<=3:\n",
    "    print (f\"El planeta {planetas[planetasSearch]} es uno de los planetas más cercanos al Sol\")\n",
    "\n",
    "#Muestra los planeas más lejanos al Sol\n",
    "else:\n",
    "    print(f\"El planeta {planetas[planetasSearch]} es uno de los planetas más lejanos al SOl\")"
   ]
  }
 ],
 "metadata": {
  "interpreter": {
   "hash": "916dbcbb3f70747c44a77c7bcd40155683ae19c65e1c03b4aa3499c5328201f1"
  },
  "kernelspec": {
   "display_name": "Python 3.9.7 64-bit",
   "language": "python",
   "name": "python3"
  },
  "language_info": {
   "codemirror_mode": {
    "name": "ipython",
    "version": 3
   },
   "file_extension": ".py",
   "mimetype": "text/x-python",
   "name": "python",
   "nbconvert_exporter": "python",
   "pygments_lexer": "ipython3",
   "version": "3.9.7"
  },
  "orig_nbformat": 4
 },
 "nbformat": 4,
 "nbformat_minor": 2
}
