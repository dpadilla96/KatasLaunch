{
 "cells": [
  {
   "cell_type": "markdown",
   "metadata": {},
   "source": [
    "#Ejercicio 1. Operadores aritmeticos\n"
   ]
  },
  {
   "cell_type": "code",
   "execution_count": 3,
   "metadata": {},
   "outputs": [
    {
     "name": "stdout",
     "output_type": "stream",
     "text": [
      "La distancia entre los dos planetas es de: 628949330 kilometros\n",
      "La distancia entre los dos planetas es de: 390577533.93 millas\n"
     ]
    }
   ],
   "source": [
    "#Crear ariables para almacenarlas distancias \n",
    "#¡Asegurate de quitar las comas!\n",
    "tierra=149597870\n",
    "jupiter=778547200\n",
    "\n",
    "#Calcular las distancias entre los planetas\n",
    "distancia=tierra-jupiter\n",
    "\n",
    "print(f'La distancia entre los dos planetas es de: {abs(distancia)} kilometros')\n",
    "print(f'La distancia entre los dos planetas es de: {abs(distancia*0.621)} millas')"
   ]
  },
  {
   "cell_type": "markdown",
   "metadata": {},
   "source": [
    "#Ejercicio 2. Convierte cadenas en numeros y usa valores absolutos"
   ]
  },
  {
   "cell_type": "code",
   "execution_count": 12,
   "metadata": {},
   "outputs": [
    {
     "name": "stdout",
     "output_type": "stream",
     "text": [
      "\n",
      "Este programa realiza el calculo de la distancia entre dos planetas tomando como referencia la distancia al sol\n",
      "\n",
      "Recuerda ingresar la distancia en kilometros\n"
     ]
    },
    {
     "ename": "TypeError",
     "evalue": "unsupported operand type(s) for -: 'str' and 'str'",
     "output_type": "error",
     "traceback": [
      "\u001b[0;31m---------------------------------------------------------------------------\u001b[0m",
      "\u001b[0;31mTypeError\u001b[0m                                 Traceback (most recent call last)",
      "\u001b[1;32mUntitled-1.ipynb Cell 4'\u001b[0m in \u001b[0;36m<module>\u001b[0;34m\u001b[0m\n\u001b[1;32m     <a href='vscode-notebook-cell:Untitled-1.ipynb?jupyter-notebook#ch0000003untitled?line=10'>11</a>\u001b[0m planeta2\u001b[39m=\u001b[39m(\u001b[39mf\u001b[39m\u001b[39m'\u001b[39m\u001b[39mDistancia del segundo planeta es de: \u001b[39m\u001b[39m{\u001b[39;00mplaneta2\u001b[39m}\u001b[39;00m\u001b[39m kilometros\u001b[39m\u001b[39m'\u001b[39m)\n\u001b[1;32m     <a href='vscode-notebook-cell:Untitled-1.ipynb?jupyter-notebook#ch0000003untitled?line=12'>13</a>\u001b[0m \u001b[39m#Realiza en calculo y determina el valor absoluto\u001b[39;00m\n\u001b[0;32m---> <a href='vscode-notebook-cell:Untitled-1.ipynb?jupyter-notebook#ch0000003untitled?line=13'>14</a>\u001b[0m diferencia \u001b[39m=\u001b[39m planeta1 \u001b[39m-\u001b[39;49m planeta2\n\u001b[1;32m     <a href='vscode-notebook-cell:Untitled-1.ipynb?jupyter-notebook#ch0000003untitled?line=14'>15</a>\u001b[0m \u001b[39mprint\u001b[39m(\u001b[39mf\u001b[39m\u001b[39m'\u001b[39m\u001b[39mLa distancia entre los planetas es: \u001b[39m\u001b[39m{\u001b[39;00m\u001b[39mabs\u001b[39m(dis)\u001b[39m}\u001b[39;00m\u001b[39m kilometros\u001b[39m\u001b[39m'\u001b[39m)\n",
      "\u001b[0;31mTypeError\u001b[0m: unsupported operand type(s) for -: 'str' and 'str'"
     ]
    }
   ],
   "source": [
    "#Almacenar las entradas del usuario \n",
    "#Pista: variable=input(¿Cual es tu nombre?)\n",
    "print('\\nEste programa realiza el calculo de la distancia entre dos planetas tomando como referencia la distancia al sol')\n",
    "print('\\nRecuerda ingresar la distancia en kilometros')\n",
    "\n",
    "planeta1=int(input('Por favor introduzca la distancia del sol de su planeta 1: '))\n",
    "planeta2=int(input('Por favor introduzca la distancia del sol de su planeta 2: '))\n",
    "\n",
    "#Convierte las cadenas de ambos planetas a números enteros\n",
    "planeta1=(f'Distancia del primer planeta es de: {planeta1} kilometros')\n",
    "planeta2=(f'Distancia del segundo planeta es de: {planeta2} kilometros')\n",
    "\n",
    "#Realiza en calculo y determina el valor absoluto\n",
    "diferencia = planeta1 - planeta2\n",
    "print(f'La distancia entre los planetas es: {abs(diferencia)} kilometros')\n",
    "\n"
   ]
  }
 ],
 "metadata": {
  "interpreter": {
   "hash": "916dbcbb3f70747c44a77c7bcd40155683ae19c65e1c03b4aa3499c5328201f1"
  },
  "kernelspec": {
   "display_name": "Python 3.9.7 64-bit",
   "language": "python",
   "name": "python3"
  },
  "language_info": {
   "codemirror_mode": {
    "name": "ipython",
    "version": 3
   },
   "file_extension": ".py",
   "mimetype": "text/x-python",
   "name": "python",
   "nbconvert_exporter": "python",
   "pygments_lexer": "ipython3",
   "version": "3.9.7"
  },
  "orig_nbformat": 4
 },
 "nbformat": 4,
 "nbformat_minor": 2
}
