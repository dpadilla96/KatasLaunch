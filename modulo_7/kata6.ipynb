{
 "cells": [
  {
   "cell_type": "markdown",
   "metadata": {},
   "source": [
    "#Ejercicio 1. Creación de un bucle \"while\""
   ]
  },
  {
   "cell_type": "markdown",
   "metadata": {},
   "source": [
    "#Ejercicio  2. Creación de un ciclo \"for\""
   ]
  },
  {
   "cell_type": "code",
   "execution_count": 3,
   "metadata": {},
   "outputs": [
    {
     "name": "stdout",
     "output_type": "stream",
     "text": [
      "Por favor ingrese la lista de los nuevos planetas que desea registrar y cuando termine escribe listo\n"
     ]
    },
    {
     "ename": "KeyboardInterrupt",
     "evalue": "",
     "output_type": "error",
     "traceback": [
      "\u001b[0;31m---------------------------------------------------------------------------\u001b[0m",
      "\u001b[0;31mKeyboardInterrupt\u001b[0m                         Traceback (most recent call last)",
      "\u001b[1;32mUntitled-1.ipynb Cell 3'\u001b[0m in \u001b[0;36m<module>\u001b[0;34m\u001b[0m\n\u001b[1;32m      <a href='vscode-notebook-cell:Untitled-1.ipynb?jupyter-notebook#ch0000003untitled?line=6'>7</a>\u001b[0m \u001b[39m#Escribimos el ciclo while que se solicita\u001b[39;00m\n\u001b[1;32m      <a href='vscode-notebook-cell:Untitled-1.ipynb?jupyter-notebook#ch0000003untitled?line=7'>8</a>\u001b[0m \u001b[39mwhile\u001b[39;00m planetas_nuevos \u001b[39m!=\u001b[39m\u001b[39m\"\u001b[39m\u001b[39mlisto\u001b[39m\u001b[39m\"\u001b[39m:\n\u001b[0;32m----> <a href='vscode-notebook-cell:Untitled-1.ipynb?jupyter-notebook#ch0000003untitled?line=8'>9</a>\u001b[0m     \u001b[39mif\u001b[39;00m planetas_nuevos:\n\u001b[1;32m     <a href='vscode-notebook-cell:Untitled-1.ipynb?jupyter-notebook#ch0000003untitled?line=9'>10</a>\u001b[0m         planetas\u001b[39m.\u001b[39mappend(planetas_nuevos)\n\u001b[1;32m     <a href='vscode-notebook-cell:Untitled-1.ipynb?jupyter-notebook#ch0000003untitled?line=10'>11</a>\u001b[0m         planetas_nuevos\u001b[39m=\u001b[39m\u001b[39minput\u001b[39m(\u001b[39m\"\u001b[39m\u001b[39mPor favor ingresa un nuevo planeta: \u001b[39m\u001b[39m\"\u001b[39m)\n",
      "\u001b[0;31mKeyboardInterrupt\u001b[0m: "
     ]
    }
   ],
   "source": [
    "#Declaramos dos variables en blanco \n",
    "planetas=[]\n",
    "planetas_nuevos=\"\"\n",
    "\n",
    "print(\"Por favor ingrese la lista de los nuevos planetas que desea registrar y cuando termine escribe listo\")\n",
    "\n",
    "#Escribimos el ciclo while que se solicita\n",
    "while planetas_nuevos !=\"listo\":\n",
    "    if planetas_nuevos:\n",
    "        planetas.append(planetas_nuevos)\n",
    "        planetas_nuevos=input(\"Por favor ingresa un nuevo planeta: \")\n",
    "\n",
    "#Escribe un ciclo for para iterar una lista nueva de planetas\n",
    "print(\"Los planetas que añadiste son: \")\n",
    "for i in planetas:\n",
    "    print(f\"\\t{i}\")"
   ]
  }
 ],
 "metadata": {
  "interpreter": {
   "hash": "916dbcbb3f70747c44a77c7bcd40155683ae19c65e1c03b4aa3499c5328201f1"
  },
  "kernelspec": {
   "display_name": "Python 3.9.7 64-bit",
   "language": "python",
   "name": "python3"
  },
  "language_info": {
   "codemirror_mode": {
    "name": "ipython",
    "version": 3
   },
   "file_extension": ".py",
   "mimetype": "text/x-python",
   "name": "python",
   "nbconvert_exporter": "python",
   "pygments_lexer": "ipython3",
   "version": "3.9.7"
  },
  "orig_nbformat": 4
 },
 "nbformat": 4,
 "nbformat_minor": 2
}
