{
 "cells": [
  {
   "cell_type": "markdown",
   "metadata": {},
   "source": [
    "#Asteroide cerca, cuidado\n",
    "##La velocidad del asteroide varía dependiendo de lo cerca que esté del sol, y cualquier velocidad superior a 25 kilómetros por segundo (km/s) merece una advertencia."
   ]
  },
  {
   "cell_type": "code",
   "execution_count": 7,
   "metadata": {},
   "outputs": [
    {
     "name": "stdout",
     "output_type": "stream",
     "text": [
      "¡Alerta! ¡Alerta! ¡Un asteroide se acerca a una velocidad peligrosa!\n"
     ]
    }
   ],
   "source": [
    "#El primer paso es realizar una variable, la cual se encargara de almacenar la velocidad del asteroide\n",
    "asteroide=60\n",
    "#procedemos a colocar una condicional,para segun la velocidad del asteriode arroje o no una alerta\n",
    "if asteroide >20:\n",
    "    print('¡Alerta! ¡Alerta! ¡Un asteroide se acerca a una velocidad peligrosa!')\n",
    "\n",
    "else:\n",
    "    print('No hay ningun peligro')"
   ]
  },
  {
   "cell_type": "markdown",
   "metadata": {},
   "source": [
    "#Mira hacia arriba, brillante no\n",
    "##¿Sabías que si un asteroide se acerca a 20 kms/s a la tierra podras ver un rayo de luz? Tranquilo, te avisaremos si hay alguno cerca."
   ]
  },
  {
   "cell_type": "code",
   "execution_count": 8,
   "metadata": {},
   "outputs": [
    {
     "name": "stdout",
     "output_type": "stream",
     "text": [
      " Mira hacia arriba, ¡BRILLANTE, ¿No?!\n"
     ]
    }
   ],
   "source": [
    "asteroide =20\n",
    "if asteroide >20:\n",
    "    print (' Mira hacia arriba, ¡BRILLANTE, ¿No?!')\n",
    "elif asteroide ==20:\n",
    "    print (' Mira hacia arriba, ¡BRILLANTE, ¿No?!')\n",
    "else:\n",
    "    print ('Oscuro, como el universo sin el sol')"
   ]
  },
  {
   "cell_type": "markdown",
   "metadata": {},
   "source": [
    "#EXTINCIÓN\n",
    "##Si un asteroide entra en la atmósfera de la Tierra a una velocidad mayor o igual a 20 km/s, a veces produce un rayo de luz que se puede ver desde la Tierra.\n"
   ]
  },
  {
   "cell_type": "code",
   "execution_count": 9,
   "metadata": {},
   "outputs": [
    {
     "name": "stdout",
     "output_type": "stream",
     "text": [
      "¡Alerta!¡Alerta! Se acerca un asteroide de máxima alerta, tome precauciones\n"
     ]
    }
   ],
   "source": [
    "tamano=50\n",
    "velocidad=40\n",
    "\n",
    "if velocidad >20 and tamano>20:\n",
    "    print('¡Alerta!¡Alerta! Se acerca un asteroide de máxima alerta, tome precauciones')\n",
    "elif tamano <50:\n",
    "    print('El día esta tranquilo, no te alertes')\n",
    "elif velocidad <=20:\n",
    "    print (' Mira hacia arriba, ¡BRILLANTE, ¿No?! ')\n",
    "else:\n",
    "    print ('El día esta muy tranquilo')"
   ]
  }
 ],
 "metadata": {
  "interpreter": {
   "hash": "916dbcbb3f70747c44a77c7bcd40155683ae19c65e1c03b4aa3499c5328201f1"
  },
  "kernelspec": {
   "display_name": "Python 3.9.7 64-bit",
   "language": "python",
   "name": "python3"
  },
  "language_info": {
   "codemirror_mode": {
    "name": "ipython",
    "version": 3
   },
   "file_extension": ".py",
   "mimetype": "text/x-python",
   "name": "python",
   "nbconvert_exporter": "python",
   "pygments_lexer": "ipython3",
   "version": "3.9.7"
  },
  "orig_nbformat": 4
 },
 "nbformat": 4,
 "nbformat_minor": 2
}
