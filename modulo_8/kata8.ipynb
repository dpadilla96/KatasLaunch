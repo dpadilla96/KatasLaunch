{
 "cells": [
  {
   "cell_type": "markdown",
   "metadata": {},
   "source": [
    "#Ejercicio 1. Creación de diccionarios de Python\n",
    "    "
   ]
  },
  {
   "cell_type": "code",
   "execution_count": 2,
   "metadata": {},
   "outputs": [
    {
     "name": "stdout",
     "output_type": "stream",
     "text": [
      "El planeta es Marte y tiene 2 lunas.\n",
      "\tNombre del planeta:\t\tMarte\n",
      "\tCircunferencia Polar del planeta:\t\t6752\n",
      "\tCircunferencia Ecuatorial del planeta:\t\t6792\n"
     ]
    }
   ],
   "source": [
    "#Crea un diccionario llamado Planet con los datos propuestos\n",
    "planeta={\n",
    "    \"nombre\" : \"Marte\",\n",
    "    \"lunas\" : 2\n",
    "}\n",
    "\n",
    "#Muestra el nombre del Planeta y el número de lunas que tiene\n",
    "print(f\"El planeta es {planeta['nombre']} y tiene {planeta['lunas']} lunas.\")\n",
    "\n",
    "#Agregamos la clave circunferencia con los datos proporcionados previamente\n",
    "planeta.update ({\"Polar\":\"6752\"})\n",
    "planeta.update({\"Ecuatorial\":\"6792\"})\n",
    "\n",
    "#Imprime el nombre del planeta con su circunferencia polar.\n",
    "print(f\"\\tNombre del planeta:\\t\\t{planeta['nombre']}\")\n",
    "print(f\"\\tCircunferencia Polar del planeta:\\t\\t{planeta['Polar']}\")\n",
    "print(f\"\\tCircunferencia Ecuatorial del planeta:\\t\\t{planeta['Ecuatorial']}\")\n"
   ]
  },
  {
   "cell_type": "markdown",
   "metadata": {},
   "source": [
    "#Ejercicio 2. Programación dinámica con diccionarios"
   ]
  },
  {
   "cell_type": "code",
   "execution_count": 3,
   "metadata": {},
   "outputs": [
    {
     "name": "stdout",
     "output_type": "stream",
     "text": [
      "El total de lunas en el Sistema Solar es; 214 lunas.\n"
     ]
    }
   ],
   "source": [
    "#Planetas y lunas\n",
    "planetas_lunas={\n",
    "    'Mercurio' : 0,\n",
    "    'Venus' : 0,\n",
    "    'Tierra' : 1,\n",
    "    'Marte' : 2,\n",
    "    'Jupiter' : 79,\n",
    "    'Saturno' : 82,\n",
    "    'Urano' : 27,\n",
    "    'Neptuno' : 14,\n",
    "    'Pluton' : 5,\n",
    "    'Haumea' : 2,\n",
    "    'Makemake' : 1,\n",
    "    'Eris' : 1\n",
    "}\n",
    "\n",
    "lunas=0\n",
    "for i in planetas_lunas.values():\n",
    "    lunas=i+lunas\n",
    "print(f\"El total de lunas en el Sistema Solar es; {lunas} lunas.\")"
   ]
  }
 ],
 "metadata": {
  "interpreter": {
   "hash": "916dbcbb3f70747c44a77c7bcd40155683ae19c65e1c03b4aa3499c5328201f1"
  },
  "kernelspec": {
   "display_name": "Python 3.9.7 64-bit",
   "language": "python",
   "name": "python3"
  },
  "language_info": {
   "codemirror_mode": {
    "name": "ipython",
    "version": 3
   },
   "file_extension": ".py",
   "mimetype": "text/x-python",
   "name": "python",
   "nbconvert_exporter": "python",
   "pygments_lexer": "ipython3",
   "version": "3.9.7"
  },
  "orig_nbformat": 4
 },
 "nbformat": 4,
 "nbformat_minor": 2
}
