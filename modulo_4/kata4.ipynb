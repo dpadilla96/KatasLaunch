{
 "cells": [
  {
   "cell_type": "markdown",
   "metadata": {},
   "source": [
    "#Kata 2\n",
    "##Cadenas"
   ]
  },
  {
   "cell_type": "markdown",
   "metadata": {},
   "source": [
    "#Ejercicio 1\n",
    "##Transformar cadenas"
   ]
  },
  {
   "cell_type": "code",
   "execution_count": 2,
   "metadata": {},
   "outputs": [
    {
     "name": "stdout",
     "output_type": "stream",
     "text": [
      " \n",
      "On average, the Moon moves 4cm away from the Earth every year\n",
      " The highest daylight temperature of the Moon is 127 C\n",
      " \n",
      "On average, the Moon moves 4cm away from the Earth every year\n",
      " The highest daylight temperature of the Moon is 127  Celsius\n"
     ]
    }
   ],
   "source": [
    "text = \"\"\"Interesting facts about the Moon. The Moon is Earth's only satellite. There are several interesting facts about the Moon and how it affects life here on Earth. \n",
    "On average, the Moon moves 4cm away from the Earth every year. This yearly drift is not significant enough to cause immediate effects on Earth. The highest daylight temperature of the Moon is 127 C.\"\"\"\n",
    "\n",
    "# Añade el código necesario \n",
    "cut=text.split(\".\")\n",
    "cut \n",
    "\n",
    "# Define las palabras pista: average, temperature y distance suenan bien\n",
    "palabras_clave = [\"temperature\", \"average\", \"distance\"]\n",
    "\n",
    "# Ciclo for para recorrer la cadena\n",
    "for sentence in cut:\n",
    "    for palabras in palabras_clave:\n",
    "        if palabras in sentence:\n",
    "            print (sentence)\n",
    "            break\n",
    "\n",
    "\n",
    "# Ciclo para conversión de °C a Celsius\n",
    "for sentence in cut:\n",
    "    for palabras in palabras_clave:\n",
    "        if palabras in sentence:\n",
    "            print (sentence.replace('C', ' Celsius'))\n",
    "            break"
   ]
  },
  {
   "cell_type": "markdown",
   "metadata": {},
   "source": [
    "#Ejercicio 2\n",
    "##Formateando Cadenas"
   ]
  },
  {
   "cell_type": "code",
   "execution_count": 5,
   "metadata": {},
   "outputs": [
    {
     "name": "stdout",
     "output_type": "stream",
     "text": [
      "Datos interesentares sobre Tierra y la luna\n",
      "\n",
      "Datos relevantes sobre nuestro satelite la luna:\n",
      "\t Planeta:\t Tierra\n",
      "\t Nombre del satelite\t luna\n",
      "\t Gravedad: \t  0.00 m/s2\n",
      "\n",
      "Datos reelevantes sobre el satelite Geminides y el planeta Marte\n",
      "\n",
      "Datos interesantes del satelite Geminides:\n",
      "\t Planeta:\t Marte\n",
      "\t Nombre del satelite:\t Geminides\n",
      "\t Gravedad: \t  1.43 m/s2\n",
      "\n"
     ]
    }
   ],
   "source": [
    "#Datos con los que vas a trabajar\n",
    "nombre=\"luna\"\n",
    "gravedad = 0.00162 #en kilometros\n",
    "planeta =\"Tierra\"\n",
    "\n",
    "#Creamos el titulo\n",
    "titulo = f'Datos interesentares sobre {planeta } y la { nombre }\\n\\n'\n",
    "\n",
    "#Creamos la plantilla\n",
    "datos= f\"\"\"Datos relevantes sobre nuestro satelite la { nombre }:\n",
    "\\t Planeta:\\t {planeta}\n",
    "\\t Nombre del satelite\\t {nombre}\n",
    "\\t Gravedad: \\t {gravedad: .2f} m/s2\"\"\"\n",
    "\n",
    "#Union de cadenas\n",
    "union_cadena = titulo+datos\n",
    "\n",
    "#Comprueba la plantilla\n",
    "print(union_cadena)\n",
    "\n",
    "#Nueva plantilla\n",
    "datos2=\"\"\"\n",
    "Datos reelevantes sobre el satelite {n} y el planeta {p}\n",
    "\n",
    "Datos interesantes del satelite {n}:\n",
    "\\t Planeta:\\t {p}\n",
    "\\t Nombre del satelite:\\t {n}\n",
    "\\t Gravedad: \\t {g: .2f} m/s2\n",
    "\"\"\" .format (n=\"Geminides\", p=\"Marte\", g=0.00143*1000)\n",
    "\n",
    "print(datos2)"
   ]
  }
 ],
 "metadata": {
  "interpreter": {
   "hash": "916dbcbb3f70747c44a77c7bcd40155683ae19c65e1c03b4aa3499c5328201f1"
  },
  "kernelspec": {
   "display_name": "Python 3.9.7 64-bit",
   "language": "python",
   "name": "python3"
  },
  "language_info": {
   "codemirror_mode": {
    "name": "ipython",
    "version": 3
   },
   "file_extension": ".py",
   "mimetype": "text/x-python",
   "name": "python",
   "nbconvert_exporter": "python",
   "pygments_lexer": "ipython3",
   "version": "3.9.7"
  },
  "orig_nbformat": 4
 },
 "nbformat": 4,
 "nbformat_minor": 2
}
